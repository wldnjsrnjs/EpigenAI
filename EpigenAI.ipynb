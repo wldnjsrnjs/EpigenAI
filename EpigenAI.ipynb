{
  "nbformat": 4,
  "nbformat_minor": 0,
  "metadata": {
    "colab": {
      "provenance": [],
      "authorship_tag": "ABX9TyMBkz4/6csTOPWJIBc5jafM",
      "include_colab_link": true
    },
    "kernelspec": {
      "name": "python3",
      "display_name": "Python 3"
    },
    "language_info": {
      "name": "python"
    }
  },
  "cells": [
    {
      "cell_type": "markdown",
      "metadata": {
        "id": "view-in-github",
        "colab_type": "text"
      },
      "source": [
        "<a href=\"https://colab.research.google.com/github/wldnjsrnjs/EpigenAI/blob/main/EpigenAI.ipynb\" target=\"_parent\"><img src=\"https://colab.research.google.com/assets/colab-badge.svg\" alt=\"Open In Colab\"/></a>"
      ]
    },
    {
      "cell_type": "code",
      "source": [
        "!pip install flask flask-ngrok pandas transformers"
      ],
      "metadata": {
        "colab": {
          "base_uri": "https://localhost:8080/"
        },
        "id": "vc21Uuus9hOF",
        "outputId": "c392e0cd-7f59-4afa-b7df-83e7986f56cf"
      },
      "execution_count": 7,
      "outputs": [
        {
          "output_type": "stream",
          "name": "stdout",
          "text": [
            "Requirement already satisfied: flask in /usr/local/lib/python3.11/dist-packages (3.1.1)\n",
            "Requirement already satisfied: flask-ngrok in /usr/local/lib/python3.11/dist-packages (0.0.25)\n",
            "Requirement already satisfied: pandas in /usr/local/lib/python3.11/dist-packages (2.2.2)\n",
            "Requirement already satisfied: transformers in /usr/local/lib/python3.11/dist-packages (4.51.3)\n",
            "Requirement already satisfied: blinker>=1.9.0 in /usr/local/lib/python3.11/dist-packages (from flask) (1.9.0)\n",
            "Requirement already satisfied: click>=8.1.3 in /usr/local/lib/python3.11/dist-packages (from flask) (8.2.0)\n",
            "Requirement already satisfied: itsdangerous>=2.2.0 in /usr/local/lib/python3.11/dist-packages (from flask) (2.2.0)\n",
            "Requirement already satisfied: jinja2>=3.1.2 in /usr/local/lib/python3.11/dist-packages (from flask) (3.1.6)\n",
            "Requirement already satisfied: markupsafe>=2.1.1 in /usr/local/lib/python3.11/dist-packages (from flask) (3.0.2)\n",
            "Requirement already satisfied: werkzeug>=3.1.0 in /usr/local/lib/python3.11/dist-packages (from flask) (3.1.3)\n",
            "Requirement already satisfied: requests in /usr/local/lib/python3.11/dist-packages (from flask-ngrok) (2.32.3)\n",
            "Requirement already satisfied: numpy>=1.23.2 in /usr/local/lib/python3.11/dist-packages (from pandas) (2.0.2)\n",
            "Requirement already satisfied: python-dateutil>=2.8.2 in /usr/local/lib/python3.11/dist-packages (from pandas) (2.9.0.post0)\n",
            "Requirement already satisfied: pytz>=2020.1 in /usr/local/lib/python3.11/dist-packages (from pandas) (2025.2)\n",
            "Requirement already satisfied: tzdata>=2022.7 in /usr/local/lib/python3.11/dist-packages (from pandas) (2025.2)\n",
            "Requirement already satisfied: filelock in /usr/local/lib/python3.11/dist-packages (from transformers) (3.18.0)\n",
            "Requirement already satisfied: huggingface-hub<1.0,>=0.30.0 in /usr/local/lib/python3.11/dist-packages (from transformers) (0.31.2)\n",
            "Requirement already satisfied: packaging>=20.0 in /usr/local/lib/python3.11/dist-packages (from transformers) (24.2)\n",
            "Requirement already satisfied: pyyaml>=5.1 in /usr/local/lib/python3.11/dist-packages (from transformers) (6.0.2)\n",
            "Requirement already satisfied: regex!=2019.12.17 in /usr/local/lib/python3.11/dist-packages (from transformers) (2024.11.6)\n",
            "Requirement already satisfied: tokenizers<0.22,>=0.21 in /usr/local/lib/python3.11/dist-packages (from transformers) (0.21.1)\n",
            "Requirement already satisfied: safetensors>=0.4.3 in /usr/local/lib/python3.11/dist-packages (from transformers) (0.5.3)\n",
            "Requirement already satisfied: tqdm>=4.27 in /usr/local/lib/python3.11/dist-packages (from transformers) (4.67.1)\n",
            "Requirement already satisfied: fsspec>=2023.5.0 in /usr/local/lib/python3.11/dist-packages (from huggingface-hub<1.0,>=0.30.0->transformers) (2025.3.2)\n",
            "Requirement already satisfied: typing-extensions>=3.7.4.3 in /usr/local/lib/python3.11/dist-packages (from huggingface-hub<1.0,>=0.30.0->transformers) (4.13.2)\n",
            "Requirement already satisfied: six>=1.5 in /usr/local/lib/python3.11/dist-packages (from python-dateutil>=2.8.2->pandas) (1.17.0)\n",
            "Requirement already satisfied: charset-normalizer<4,>=2 in /usr/local/lib/python3.11/dist-packages (from requests->flask-ngrok) (3.4.2)\n",
            "Requirement already satisfied: idna<4,>=2.5 in /usr/local/lib/python3.11/dist-packages (from requests->flask-ngrok) (3.10)\n",
            "Requirement already satisfied: urllib3<3,>=1.21.1 in /usr/local/lib/python3.11/dist-packages (from requests->flask-ngrok) (2.4.0)\n",
            "Requirement already satisfied: certifi>=2017.4.17 in /usr/local/lib/python3.11/dist-packages (from requests->flask-ngrok) (2025.4.26)\n"
          ]
        }
      ]
    },
    {
      "cell_type": "code",
      "source": [
        "!pip install pyngrok\n",
        "\n",
        "from pyngrok import ngrok\n",
        "ngrok.set_auth_token(\"2xgO606y570LCQMfk4G3LlOB1bc_2br1u5wMNcAXkJsZbHkQd\")\n",
        "public_url = ngrok.connect(5000)\n",
        "print(\"웹 앱 주소:\", public_url)\n"
      ],
      "metadata": {
        "colab": {
          "base_uri": "https://localhost:8080/"
        },
        "id": "EIyBsf-4HYCT",
        "outputId": "8c6cf513-31f9-4d62-8909-d1b166ec2b30"
      },
      "execution_count": 13,
      "outputs": [
        {
          "output_type": "stream",
          "name": "stdout",
          "text": [
            "Requirement already satisfied: pyngrok in /usr/local/lib/python3.11/dist-packages (7.2.8)\n",
            "Requirement already satisfied: PyYAML>=5.1 in /usr/local/lib/python3.11/dist-packages (from pyngrok) (6.0.2)\n",
            "웹 앱 주소: NgrokTunnel: \"https://9ab8-34-125-207-225.ngrok-free.app\" -> \"http://localhost:5000\"\n"
          ]
        }
      ]
    },
    {
      "cell_type": "code",
      "source": [
        "import pandas as pd\n",
        "\n",
        "data = pd.DataFrame({\n",
        "    'Lifestyle_Factor': ['Sleep_Hours', 'Sleep_Hours', 'Stress_Level', 'Stress_Level', 'Diet_Quality', 'Diet_Quality', 'Exercise_Minutes', 'Exercise_Minutes'],\n",
        "    'Value': ['6', '8', 'High', 'Low', 'Poor', 'Good', '30', '0'],\n",
        "    'Epigenetic_Mechanism': [\n",
        "        'DNA Methylation (Increased)', 'DNA Methylation (Balanced)',\n",
        "        'Histone Modification (Dysregulated)', 'Histone Modification (Stable)',\n",
        "        'DNA Methylation (Increased)', 'DNA Methylation (Balanced)',\n",
        "        'DNA Methylation (Decreased)', 'DNA Methylation (Increased)'\n",
        "    ],\n",
        "    'Health_Risk_Score': [3.5, 1.5, 4.0, 1.5, 4.5, 2.0, 1.5, 3.5],\n",
        "    'Alzheimer_Risk': [0.4, 0.1, 0.3, 0.1, 0.2, 0.1, 0.1, 0.2],\n",
        "    'Cardiovascular_Risk': [0.3, 0.1, 0.5, 0.1, 0.4, 0.1, 0.1, 0.3],\n",
        "    'Diabetes_Risk': [0.2, 0.1, 0.2, 0.1, 0.5, 0.1, 0.1, 0.3]\n",
        "})\n",
        "data.to_csv('epigen_data.csv', index=False)\n",
        "print(\"데이터 파일이 저장되었습니다!\")"
      ],
      "metadata": {
        "colab": {
          "base_uri": "https://localhost:8080/"
        },
        "id": "9Ci1k7jM9ov1",
        "outputId": "b9a6ed04-ca55-4e79-a07d-1726b31a36dd"
      },
      "execution_count": 17,
      "outputs": [
        {
          "output_type": "stream",
          "name": "stdout",
          "text": [
            "데이터 파일이 저장되었습니다!\n"
          ]
        }
      ]
    },
    {
      "cell_type": "code",
      "source": [
        "# 1. 필수 패키지 설치 (Colab에서 한 번만 실행)\n",
        "!pip install flask pyngrok pandas transformers\n",
        "\n",
        "# 2. Flask+pyngrok 기반 EpigenAI 웹앱 전체 코드\n",
        "from flask import Flask, request, redirect\n",
        "from pyngrok import ngrok\n",
        "import pandas as pd\n",
        "import sqlite3\n",
        "from datetime import datetime\n",
        "from transformers import pipeline\n",
        "import threading\n",
        "\n",
        "app = Flask(__name__)\n",
        "\n",
        "# ngrok 인증 토큰 설정 (본인 토큰으로 교체!)\n",
        "ngrok.set_auth_token(\"2xgO606y570LCQMfk4G3LlOB1bc_2br1u5wMNcAXkJsZbHkQd\")\n",
        "\n",
        "# 데이터 로드\n",
        "data = pd.read_csv('epigen_data.csv')\n",
        "\n",
        "# 인공지능(GPT-2) 조언 생성기\n",
        "generator = pipeline('text-generation', model='gpt2')\n",
        "\n",
        "def calculate_risk(user_data):\n",
        "    total_risk = 0\n",
        "    alzheimer_risk = 0.1\n",
        "    cardio_risk = 0.1\n",
        "    diabetes_risk = 0.1\n",
        "    count = 0\n",
        "    for factor, value in user_data.items():\n",
        "        if factor not in ['age_group', 'date']:\n",
        "            matching_row = data[(data['Lifestyle_Factor'] == factor) & (data['Value'] == value)]\n",
        "            if not matching_row.empty:\n",
        "                total_risk += float(matching_row['Health_Risk_Score'].iloc[0])\n",
        "                alzheimer_risk = max(alzheimer_risk, float(matching_row['Alzheimer_Risk'].iloc[0]))\n",
        "                cardio_risk = max(cardio_risk, float(matching_row['Cardiovascular_Risk'].iloc[0]))\n",
        "                diabetes_risk = max(diabetes_risk, float(matching_row['Diabetes_Risk'].iloc[0]))\n",
        "                count += 1\n",
        "    return total_risk / max(1, count), alzheimer_risk, cardio_risk, diabetes_risk\n",
        "\n",
        "def generate_personalized_advice(risk_score, user_input, age_group):\n",
        "    base_prompt = f\"User has a health risk score of {risk_score} (1-5, higher is worse). They are {'over 60 years old' if age_group == 'over_60' else 'under 60'}. \"\n",
        "    if user_input:\n",
        "        base_prompt += f\"They mentioned: {user_input}. \"\n",
        "    base_prompt += \"Provide personalized health advice in a friendly tone to help prevent aging-related diseases.\"\n",
        "    response = generator(base_prompt, max_length=100, num_return_sequences=1)[0]['generated_text']\n",
        "    return response\n",
        "\n",
        "def save_user_data(user_data, risk_score, advice):\n",
        "    conn = sqlite3.connect('epigenai_users.db')\n",
        "    cursor = conn.cursor()\n",
        "    cursor.execute('''CREATE TABLE IF NOT EXISTS users\n",
        "                      (id INTEGER PRIMARY KEY AUTOINCREMENT, age_group TEXT, sleep TEXT, stress TEXT, diet TEXT, exercise TEXT, risk_score REAL, advice TEXT, date TEXT, timestamp DATETIME DEFAULT CURRENT_TIMESTAMP)''')\n",
        "    cursor.execute('INSERT INTO users (age_group, sleep, stress, diet, exercise, risk_score, advice, date) VALUES (?, ?, ?, ?, ?, ?, ?, ?)',\n",
        "                   (user_data['age_group'], user_data['sleep'], user_data['stress'], user_data['diet'], user_data['exercise'], risk_score, advice, user_data['date']))\n",
        "    conn.commit()\n",
        "    conn.close()\n",
        "\n",
        "def check_user_records():\n",
        "    conn = sqlite3.connect('epigenai_users.db')\n",
        "    cursor = conn.cursor()\n",
        "    cursor.execute('SELECT DISTINCT date FROM users')\n",
        "    dates = cursor.fetchall()\n",
        "    conn.close()\n",
        "    return len(dates) >= 7\n",
        "\n",
        "def simulate_improvement(user_data, factor, improved_value):\n",
        "    improved_data = user_data.copy()\n",
        "    improved_data[factor] = improved_value\n",
        "    risk, _, _, _ = calculate_risk(improved_data)\n",
        "    return risk\n",
        "\n",
        "@app.route('/', methods=['GET', 'POST'])\n",
        "def home():\n",
        "    if request.method == 'POST':\n",
        "        age_group = request.form.get('age_group', 'under_60')\n",
        "        sleep_hours = request.form.get('sleep', '6')\n",
        "        stress_level = request.form.get('stress', 'Low')\n",
        "        diet_quality = request.form.get('diet', 'Good')\n",
        "        exercise_minutes = request.form.get('exercise', '30')\n",
        "        date = request.form.get('date', datetime.now().strftime('%Y-%m-%d'))\n",
        "        user_input = request.form.get('user_comment', '')\n",
        "        user_data = {\n",
        "            'age_group': age_group,\n",
        "            'sleep': sleep_hours,\n",
        "            'stress': stress_level,\n",
        "            'diet': diet_quality,\n",
        "            'exercise': exercise_minutes,\n",
        "            'date': date\n",
        "        }\n",
        "        risk, alzheimer_risk, cardio_risk, diabetes_risk = calculate_risk({\n",
        "            'age_group': age_group,\n",
        "            'Sleep_Hours': sleep_hours,\n",
        "            'Stress_Level': stress_level,\n",
        "            'Diet_Quality': diet_quality,\n",
        "            'Exercise_Minutes': exercise_minutes\n",
        "        })\n",
        "        advice = generate_personalized_advice(risk, user_input, age_group)\n",
        "        save_user_data(user_data, risk, advice)\n",
        "        return redirect('/history')\n",
        "    return '''\n",
        "<h1>EpigenAI: 후성유전학 기반 건강습관 분석</h1>\n",
        "<form method=\"post\">\n",
        "<label>연령대:</label>\n",
        "<select name=\"age_group\">\n",
        "<option value=\"under_60\">60세 미만</option>\n",
        "<option value=\"over_60\">60세 이상</option>\n",
        "</select><br><br>\n",
        "<label>날짜:</label>\n",
        "<input type=\"date\" name=\"date\" value=\"{today}\" required><br><br>\n",
        "<label>수면 시간 (시간):</label>\n",
        "<select name=\"sleep\">\n",
        "<option value=\"6\">6시간</option>\n",
        "<option value=\"8\">8시간</option>\n",
        "</select><br><br>\n",
        "<label>스트레스 수준:</label>\n",
        "<select name=\"stress\">\n",
        "<option value=\"Low\">낮음</option>\n",
        "<option value=\"High\">높음</option>\n",
        "</select><br><br>\n",
        "<label>식단 품질:</label>\n",
        "<select name=\"diet\">\n",
        "<option value=\"Good\">좋음</option>\n",
        "<option value=\"Poor\">나쁨</option>\n",
        "</select><br><br>\n",
        "<label>운동 시간 (분):</label>\n",
        "<select name=\"exercise\">\n",
        "<option value=\"30\">30분</option>\n",
        "<option value=\"0\">0분</option>\n",
        "</select><br><br>\n",
        "<label>추가 의견 (선택 사항):</label>\n",
        "<textarea name=\"user_comment\" rows=\"3\" cols=\"30\" placeholder=\"건강 상태나 궁금한 점을 적어주세요.\"></textarea><br><br>\n",
        "<input type=\"submit\" value=\"데이터 저장\">\n",
        "</form>\n",
        "'''.replace(\"{today}\", datetime.now().strftime('%Y-%m-%d'))\n",
        "\n",
        "@app.route('/history')\n",
        "def history():\n",
        "    conn = sqlite3.connect('epigenai_users.db')\n",
        "    cursor = conn.cursor()\n",
        "    cursor.execute('SELECT * FROM users ORDER BY timestamp DESC')\n",
        "    records = cursor.fetchall()\n",
        "    conn.close()\n",
        "    html = \"<h1>나의 건강 기록</h1><table border='1' style='margin: 0 auto; font-size: 18px;'>\"\n",
        "    html += \"<tr><th>날짜</th><th>연령대</th><th>수면</th><th>스트레스</th><th>식단</th><th>운동</th><th>위험도</th><th>AI 조언</th></tr>\"\n",
        "    for record in records:\n",
        "        html += f\"<tr><td>{record[8]}</td><td>{record[1]}</td><td>{record[2]}</td><td>{record[3]}</td><td>{record[4]}</td><td>{record[5]}</td><td>{record[6]}</td><td>{record[7][:40]}...</td></tr>\"\n",
        "    html += \"</table><br><a href='/'>홈으로 돌아가기</a>\"\n",
        "    if check_user_records():\n",
        "        html += \"<br><b>7일 이상 기록이 있으니 결과 분석이 가능합니다!</b>\"\n",
        "        html += \"<br><a href='/result'>주간 결과 분석 보기</a>\"\n",
        "    else:\n",
        "        html += \"<br><b>7일 이상 기록을 입력해야 결과를 볼 수 있습니다.</b>\"\n",
        "    return html\n",
        "\n",
        "@app.route('/result')\n",
        "def result():\n",
        "    conn = sqlite3.connect('epigenai_users.db')\n",
        "    cursor = conn.cursor()\n",
        "    cursor.execute('SELECT risk_score, date FROM users ORDER BY date DESC LIMIT 7')\n",
        "    records = cursor.fetchall()\n",
        "    conn.close()\n",
        "    if len(records) < 7:\n",
        "        return \"<h1>7일 이상 기록이 필요합니다.</h1><a href='/'>홈으로 돌아가기</a>\"\n",
        "    risk_scores = [float(r[0]) for r in records]\n",
        "    avg_risk = sum(risk_scores) / len(risk_scores)\n",
        "    trend = \"개선됨\" if risk_scores[0] < risk_scores[-1] else \"악화됨\" if risk_scores[0] > risk_scores[-1] else \"유사함\"\n",
        "    html = f\"<h1>주간 건강 분석 결과</h1><p>평균 위험도: {avg_risk:.2f}</p><p>위험도 추세: {trend}</p>\"\n",
        "    html += \"<table border='1' style='margin: 0 auto; font-size: 18px;'><tr><th>날짜</th><th>위험도</th></tr>\"\n",
        "    for r in records:\n",
        "        html += f\"<tr><td>{r[1]}</td><td>{r[0]}</td></tr>\"\n",
        "    html += \"</table><br><a href='/'>홈으로 돌아가기</a>\"\n",
        "    return html\n",
        "\n",
        "@app.route('/education')\n",
        "def education():\n",
        "    return '''\n",
        "<h1>후성유전학 교육 콘텐츠</h1>\n",
        "<div style=\"font-size:18px; padding:20px; background:#fff; border-radius:10px; width:80%; margin:0 auto;\">\n",
        "<b>후성유전학이란?</b> 유전자의 DNA 서열이 변하지 않으면서도 생활습관이나 환경이 유전자 발현에 영향을 미치는 과학입니다.<br>\n",
        "<b>왜 중요한가요?</b> 수면 부족, 스트레스, 잘못된 식습관은 DNA 메틸화를 변화시켜 알츠하이머, 심혈관 질환 같은 노화 질병 위험을 높일 수 있습니다.<br>\n",
        "<b>어떻게 도움을 줄까요?</b> EpigenAI는 생활습관을 분석하여 이러한 위험을 줄이는 방법을 제안합니다.\n",
        "</div>\n",
        "<br><a href='/' >홈으로 돌아가기</a>\n",
        "'''\n",
        "\n",
        "def run_flask():\n",
        "    app.run(host='0.0.0.0', port=5000)\n",
        "\n",
        "# Flask 서버를 백그라운드에서 실행\n",
        "threading.Thread(target=run_flask).start()\n",
        "\n",
        "# ngrok 터널 연결\n",
        "public_url = ngrok.connect(5000)\n",
        "print(\"웹 앱 주소:\", public_url)\n"
      ],
      "metadata": {
        "colab": {
          "base_uri": "https://localhost:8080/"
        },
        "id": "MvyQJF-cQVbn",
        "outputId": "0c37550f-826d-4cfc-db13-2b870642f5f2"
      },
      "execution_count": 41,
      "outputs": [
        {
          "output_type": "stream",
          "name": "stdout",
          "text": [
            "Requirement already satisfied: flask in /usr/local/lib/python3.11/dist-packages (3.1.1)\n",
            "Requirement already satisfied: pyngrok in /usr/local/lib/python3.11/dist-packages (7.2.8)\n",
            "Requirement already satisfied: pandas in /usr/local/lib/python3.11/dist-packages (2.2.2)\n",
            "Requirement already satisfied: transformers in /usr/local/lib/python3.11/dist-packages (4.51.3)\n",
            "Requirement already satisfied: blinker>=1.9.0 in /usr/local/lib/python3.11/dist-packages (from flask) (1.9.0)\n",
            "Requirement already satisfied: click>=8.1.3 in /usr/local/lib/python3.11/dist-packages (from flask) (8.2.0)\n",
            "Requirement already satisfied: itsdangerous>=2.2.0 in /usr/local/lib/python3.11/dist-packages (from flask) (2.2.0)\n",
            "Requirement already satisfied: jinja2>=3.1.2 in /usr/local/lib/python3.11/dist-packages (from flask) (3.1.6)\n",
            "Requirement already satisfied: markupsafe>=2.1.1 in /usr/local/lib/python3.11/dist-packages (from flask) (3.0.2)\n",
            "Requirement already satisfied: werkzeug>=3.1.0 in /usr/local/lib/python3.11/dist-packages (from flask) (3.1.3)\n",
            "Requirement already satisfied: PyYAML>=5.1 in /usr/local/lib/python3.11/dist-packages (from pyngrok) (6.0.2)\n",
            "Requirement already satisfied: numpy>=1.23.2 in /usr/local/lib/python3.11/dist-packages (from pandas) (2.0.2)\n",
            "Requirement already satisfied: python-dateutil>=2.8.2 in /usr/local/lib/python3.11/dist-packages (from pandas) (2.9.0.post0)\n",
            "Requirement already satisfied: pytz>=2020.1 in /usr/local/lib/python3.11/dist-packages (from pandas) (2025.2)\n",
            "Requirement already satisfied: tzdata>=2022.7 in /usr/local/lib/python3.11/dist-packages (from pandas) (2025.2)\n",
            "Requirement already satisfied: filelock in /usr/local/lib/python3.11/dist-packages (from transformers) (3.18.0)\n",
            "Requirement already satisfied: huggingface-hub<1.0,>=0.30.0 in /usr/local/lib/python3.11/dist-packages (from transformers) (0.31.2)\n",
            "Requirement already satisfied: packaging>=20.0 in /usr/local/lib/python3.11/dist-packages (from transformers) (24.2)\n",
            "Requirement already satisfied: regex!=2019.12.17 in /usr/local/lib/python3.11/dist-packages (from transformers) (2024.11.6)\n",
            "Requirement already satisfied: requests in /usr/local/lib/python3.11/dist-packages (from transformers) (2.32.3)\n",
            "Requirement already satisfied: tokenizers<0.22,>=0.21 in /usr/local/lib/python3.11/dist-packages (from transformers) (0.21.1)\n",
            "Requirement already satisfied: safetensors>=0.4.3 in /usr/local/lib/python3.11/dist-packages (from transformers) (0.5.3)\n",
            "Requirement already satisfied: tqdm>=4.27 in /usr/local/lib/python3.11/dist-packages (from transformers) (4.67.1)\n",
            "Requirement already satisfied: fsspec>=2023.5.0 in /usr/local/lib/python3.11/dist-packages (from huggingface-hub<1.0,>=0.30.0->transformers) (2025.3.2)\n",
            "Requirement already satisfied: typing-extensions>=3.7.4.3 in /usr/local/lib/python3.11/dist-packages (from huggingface-hub<1.0,>=0.30.0->transformers) (4.13.2)\n",
            "Requirement already satisfied: six>=1.5 in /usr/local/lib/python3.11/dist-packages (from python-dateutil>=2.8.2->pandas) (1.17.0)\n",
            "Requirement already satisfied: charset-normalizer<4,>=2 in /usr/local/lib/python3.11/dist-packages (from requests->transformers) (3.4.2)\n",
            "Requirement already satisfied: idna<4,>=2.5 in /usr/local/lib/python3.11/dist-packages (from requests->transformers) (3.10)\n",
            "Requirement already satisfied: urllib3<3,>=1.21.1 in /usr/local/lib/python3.11/dist-packages (from requests->transformers) (2.4.0)\n",
            "Requirement already satisfied: certifi>=2017.4.17 in /usr/local/lib/python3.11/dist-packages (from requests->transformers) (2025.4.26)\n"
          ]
        },
        {
          "output_type": "stream",
          "name": "stderr",
          "text": [
            "Device set to use cpu\n"
          ]
        },
        {
          "output_type": "stream",
          "name": "stdout",
          "text": [
            " * Serving Flask app '__main__'\n",
            " * Debug mode: off\n"
          ]
        },
        {
          "output_type": "stream",
          "name": "stderr",
          "text": [
            "Address already in use\n",
            "Port 5000 is in use by another program. Either identify and stop that program, or start the server with a different port.\n"
          ]
        },
        {
          "output_type": "stream",
          "name": "stdout",
          "text": [
            "웹 앱 주소: NgrokTunnel: \"https://d4ff-34-125-207-225.ngrok-free.app\" -> \"http://localhost:5000\"\n"
          ]
        }
      ]
    }
  ]
}