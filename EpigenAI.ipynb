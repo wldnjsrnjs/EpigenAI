{
  "nbformat": 4,
  "nbformat_minor": 0,
  "metadata": {
    "colab": {
      "provenance": [],
      "authorship_tag": "ABX9TyNZIJcHOqQ4EM7hstoqAVWs",
      "include_colab_link": true
    },
    "kernelspec": {
      "name": "python3",
      "display_name": "Python 3"
    },
    "language_info": {
      "name": "python"
    }
  },
  "cells": [
    {
      "cell_type": "markdown",
      "metadata": {
        "id": "view-in-github",
        "colab_type": "text"
      },
      "source": [
        "<a href=\"https://colab.research.google.com/github/wldnjsrnjs/EpigenAI/blob/main/EpigenAI.ipynb\" target=\"_parent\"><img src=\"https://colab.research.google.com/assets/colab-badge.svg\" alt=\"Open In Colab\"/></a>"
      ]
    },
    {
      "cell_type": "code",
      "source": [
        "!pip install flask pandas sqlite3 transformers"
      ],
      "metadata": {
        "colab": {
          "base_uri": "https://localhost:8080/"
        },
        "id": "maBWbKYjdZ1x",
        "outputId": "efad670e-90b4-4d8b-c191-499ba97e60ec"
      },
      "execution_count": 1,
      "outputs": [
        {
          "output_type": "stream",
          "name": "stdout",
          "text": [
            "Requirement already satisfied: flask in /usr/local/lib/python3.11/dist-packages (3.1.1)\n",
            "Requirement already satisfied: pandas in /usr/local/lib/python3.11/dist-packages (2.2.2)\n",
            "\u001b[31mERROR: Could not find a version that satisfies the requirement sqlite3 (from versions: none)\u001b[0m\u001b[31m\n",
            "\u001b[0m\u001b[31mERROR: No matching distribution found for sqlite3\u001b[0m\u001b[31m\n",
            "\u001b[0m"
          ]
        }
      ]
    },
    {
      "cell_type": "code",
      "source": [
        "import pandas as pd\n",
        "\n",
        "# 데이터 만들기\n",
        "data = pd.DataFrame({\n",
        "    'Lifestyle_Factor': ['Sleep_Hours', 'Sleep_Hours', 'Stress_Level', 'Stress_Level', 'Diet_Quality', 'Diet_Quality', 'Exercise_Minutes', 'Exercise_Minutes'],\n",
        "    'Value': ['6', '8', 'High', 'Low', 'Poor', 'Good', '30', '0'],\n",
        "    'Epigenetic_Mechanism': ['DNA Methylation (Increased)', 'DNA Methylation (Balanced)', 'Histone Modification (Dysregulated)', 'Histone Modification (Stable)', 'DNA Methylation (Increased)', 'DNA Methylation (Balanced)', 'DNA Methylation (Decreased)', 'DNA Methylation (Increased)'],\n",
        "    'Health_Risk_Score': [3.5, 1.5, 4.0, 1.5, 4.5, 2.0, 1.5, 3.5],\n",
        "    'Alzheimer_Risk': [0.4, 0.1, 0.3, 0.1, 0.2, 0.1, 0.1, 0.2],\n",
        "    'Cardiovascular_Risk': [0.3, 0.1, 0.5, 0.1, 0.4, 0.1, 0.1, 0.3],\n",
        "    'Diabetes_Risk': [0.2, 0.1, 0.2, 0.1, 0.5, 0.1, 0.1, 0.3],\n",
        "    'Source': ['Search Result 1: DNA 메틸화 패턴 변화로 노화 가속', 'Search Result 1: 적정 수면 시 메틸화 균형', 'Search Result 3: 스트레스가 후성유전적 변화 유발', 'Search Result 3: 스트레스 감소 시 안정성 유지', 'Search Result 5: 잘못된 식습관이 메틸화 변화 유발', 'Search Result 5: 균형 잡힌 식단이 안정성 유지', 'Search Result 2: 적절한 운동이 메틸화 감소', 'Search Result 2: 운동 부족이 메틸화 변화 유발']\n",
        "})\n",
        "\n",
        "# CSV 파일로 저장\n",
        "data.to_csv('epigen_data.csv', index=False)\n",
        "print(\"데이터 파일이 저장되었습니다!\")\n"
      ],
      "metadata": {
        "colab": {
          "base_uri": "https://localhost:8080/"
        },
        "id": "TCwFYCKvdxPS",
        "outputId": "4f34da1f-002a-42bc-cda2-70f7e6603697"
      },
      "execution_count": 2,
      "outputs": [
        {
          "output_type": "stream",
          "name": "stdout",
          "text": [
            "데이터 파일이 저장되었습니다!\n"
          ]
        }
      ]
    }
  ]
}

    
