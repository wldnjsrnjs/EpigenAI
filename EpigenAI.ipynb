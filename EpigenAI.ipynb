{
  "nbformat": 4,
  "nbformat_minor": 0,
  "metadata": {
    "colab": {
      "provenance": [],
      "authorship_tag": "ABX9TyNZIJcHOqQ4EM7hstoqAVWs",
      "include_colab_link": true
    },
    "kernelspec": {
      "name": "python3",
      "display_name": "Python 3"
    },
    "language_info": {
      "name": "python"
    }
  },
  "cells": [
    {
      "cell_type": "markdown",
      "metadata": {
        "id": "view-in-github",
        "colab_type": "text"
      },
      "source": [
        "<a href=\"https://colab.research.google.com/github/wldnjsrnjs/EpigenAI/blob/main/EpigenAI.ipynb\" target=\"_parent\"><img src=\"https://colab.research.google.com/assets/colab-badge.svg\" alt=\"Open In Colab\"/></a>"
      ]
    },
    {
      "cell_type": "code",
      "source": [
        "!pip install flask pandas sqlite3 transformers"
      ],
      "metadata": {
        "colab": {
          "base_uri": "https://localhost:8080/"
        },
        "id": "maBWbKYjdZ1x",
        "outputId": "efad670e-90b4-4d8b-c191-499ba97e60ec"
      },
      "execution_count": 1,
      "outputs": [
        {
          "output_type": "stream",
          "name": "stdout",
          "text": [
            "Requirement already satisfied: flask in /usr/local/lib/python3.11/dist-packages (3.1.1)\n",
            "Requirement already satisfied: pandas in /usr/local/lib/python3.11/dist-packages (2.2.2)\n",
            "\u001b[31mERROR: Could not find a version that satisfies the requirement sqlite3 (from versions: none)\u001b[0m\u001b[31m\n",
            "\u001b[0m\u001b[31mERROR: No matching distribution found for sqlite3\u001b[0m\u001b[31m\n",
            "\u001b[0m"
          ]
        }
      ]
    },
    {
      "cell_type": "code",
      "source": [
        "import pandas as pd\n",
        "\n",
        "# 데이터 만들기\n",
        "data = pd.DataFrame({\n",
        "    'Lifestyle_Factor': ['Sleep_Hours', 'Sleep_Hours', 'Stress_Level', 'Stress_Level', 'Diet_Quality', 'Diet_Quality', 'Exercise_Minutes', 'Exercise_Minutes'],\n",
        "    'Value': ['6', '8', 'High', 'Low', 'Poor', 'Good', '30', '0'],\n",
        "    'Epigenetic_Mechanism': ['DNA Methylation (Increased)', 'DNA Methylation (Balanced)', 'Histone Modification (Dysregulated)', 'Histone Modification (Stable)', 'DNA Methylation (Increased)', 'DNA Methylation (Balanced)', 'DNA Methylation (Decreased)', 'DNA Methylation (Increased)'],\n",
        "    'Health_Risk_Score': [3.5, 1.5, 4.0, 1.5, 4.5, 2.0, 1.5, 3.5],\n",
        "    'Alzheimer_Risk': [0.4, 0.1, 0.3, 0.1, 0.2, 0.1, 0.1, 0.2],\n",
        "    'Cardiovascular_Risk': [0.3, 0.1, 0.5, 0.1, 0.4, 0.1, 0.1, 0.3],\n",
        "    'Diabetes_Risk': [0.2, 0.1, 0.2, 0.1, 0.5, 0.1, 0.1, 0.3],\n",
        "    'Source': ['Search Result 1: DNA 메틸화 패턴 변화로 노화 가속', 'Search Result 1: 적정 수면 시 메틸화 균형', 'Search Result 3: 스트레스가 후성유전적 변화 유발', 'Search Result 3: 스트레스 감소 시 안정성 유지', 'Search Result 5: 잘못된 식습관이 메틸화 변화 유발', 'Search Result 5: 균형 잡힌 식단이 안정성 유지', 'Search Result 2: 적절한 운동이 메틸화 감소', 'Search Result 2: 운동 부족이 메틸화 변화 유발']\n",
        "})\n",
        "\n",
        "# CSV 파일로 저장\n",
        "data.to_csv('epigen_data.csv', index=False)\n",
        "print(\"데이터 파일이 저장되었습니다!\")\n"
      ],
      "metadata": {
        "colab": {
          "base_uri": "https://localhost:8080/"
        },
        "id": "TCwFYCKvdxPS",
        "outputId": "4f34da1f-002a-42bc-cda2-70f7e6603697"
      },
      "execution_count": 2,
      "outputs": [
        {
          "output_type": "stream",
          "name": "stdout",
          "text": [
            "데이터 파일이 저장되었습니다!\n"
          ]
        }
      ]
    }
  ]
}

from flask import Flask, request, render_template_string
import pandas as pd
import sqlite3
from datetime import datetime, timedelta
import os
from transformers import pipeline

app = Flask(__name__)

# 데이터베이스 로드
data = pd.read_csv('epigen_data.csv')

# 인공지능 API 로드 (Hugging Face)
generator = pipeline('text-generation', model='gpt2')

def calculate_risk(user_data):
    total_risk = 0
    alzheimer_risk = 0.1
    cardio_risk = 0.1
    diabetes_risk = 0.1
    count = 0
    
    for factor, value in user_data.items():
        if factor != 'age_group' and factor != 'date':
            matching_row = data[(data['Lifestyle_Factor'] == factor) & (data['Value'] == value)]
            if not matching_row.empty:
                total_risk += matching_row['Health_Risk_Score'].iloc[0]
                alzheimer_risk = max(alzheimer_risk, matching_row['Alzheimer_Risk'].iloc[0])
                cardio_risk = max(cardio_risk, matching_row['Cardiovascular_Risk'].iloc[0])
                diabetes_risk = max(diabetes_risk, matching_row['Diabetes_Risk'].iloc[0])
                count += 1
    
    return total_risk / max(1, count), alzheimer_risk, cardio_risk, diabetes_risk

def generate_personalized_advice(risk_score, user_input, age_group):
    base_prompt = f"User has a health risk score of {risk_score} (1-5, higher is worse). They are {'over 60 years old' if age_group == 'over_60' else 'under 60'}. "
    if user_input:
        base_prompt += f"They mentioned: {user_input}. "
    base_prompt += "Provide personalized health advice in a friendly tone to help prevent aging-related diseases."
    response = generator(base_prompt, max_length=100, num_return_sequences=1)[0]['generated_text']
    return response

def generate_report(risk_score, alzheimer_risk, cardio_risk, diabetes_risk, advice, user_data):
    report = f"""
    EpigenAI 건강 분석 리포트
    -----------------------
    날짜: {user_data['date']}
    건강 위험도 점수: {risk_score:.2f} (1~5, 높을수록 위험)
    노화 질병 위험도:
    - 알츠하이머: {alzheimer_risk*100:.0f}% 수준
    - 심혈관 질환: {cardio_risk*100:.0f}% 수준
    - 당뇨병: {diabetes_risk*100:.0f}% 수준
    사용자 입력:
    - 연령대: {user_data['age_group']}
    - 수면 시간: {user_data['sleep']}
    - 스트레스 수준: {user_data['stress']}
    - 식단 품질: {user_data['diet']}
    - 운동 시간: {user_data['exercise']}
    건강 조언:
    {advice}
    """
    report_file = f"report_{os.urandom(4).hex()}.txt"
    with open(report_file, "w") as f:
        f.write(report)
    return "리포트가 생성되었습니다. (실제 PDF 기능은 개발 중입니다.)"

def simulate_improvement(user_data, factor, improved_value):
    improved_data = user_data.copy()
    improved_data[factor] = improved_value
    risk, _, _, _ = calculate_risk(improved_data)
    return risk

def save_user_data(user_data, risk_score, advice):
    conn = sqlite3.connect('epigenai_users.db')
    cursor = conn.cursor()
    cursor.execute('''CREATE TABLE IF NOT EXISTS users
                      (id INTEGER PRIMARY KEY AUTOINCREMENT, age_group TEXT, sleep TEXT, stress TEXT, diet TEXT, exercise TEXT, risk_score REAL, advice TEXT, date TEXT, timestamp DATETIME DEFAULT CURRENT_TIMESTAMP)''')
    cursor.execute('INSERT INTO users (age_group, sleep, stress, diet, exercise, risk_score, advice, date) VALUES (?, ?, ?, ?, ?, ?, ?, ?)',
                   (user_data['age_group'], user_data['sleep'], user_data['stress'], user_data['diet'], user_data['exercise'], risk_score, advice, user_data['date']))
    conn.commit()
    conn.close()

def check_user_records():
    conn = sqlite3.connect('epigenai_users.db')
    cursor = conn.cursor()
    cursor.execute('SELECT DISTINCT date FROM users')
    dates = cursor.fetchall()
    conn.close()
    return len(dates) >= 7

def calculate_weekly_summary():
    conn = sqlite3.connect('epigenai_users.db')
    cursor = conn.cursor()
    cursor.execute('SELECT risk_score, date FROM users ORDER BY timestamp DESC LIMIT 7')
    records = cursor.fetchall()
    conn.close()
    if len(records) < 7:
        return None, None, None, None
    risk_scores = [r[0] for r in records]
    avg_risk = sum(risk_scores) / len(risk_scores)
    trend = "개선됨" if risk_scores[0] < risk_scores[-1] else "악화됨" if risk_scores[0] > risk_scores[-1] else "유사함"
    return avg_risk, trend, min(risk_scores), max(risk_scores)

@app.route('/', methods=['GET', 'POST'])
def home():
    if request.method == 'POST':
        age_group = request.form.get('age_group', 'under_60')
        sleep_hours = request.form.get('sleep', '6')
        stress_level = request.form.get('stress', 'Low')
        diet_quality = request.form.get('diet', 'Good')
        exercise_minutes = request.form.get('exercise', '30')
        date = request.form.get('date', datetime.now().strftime('%Y-%m-%d'))
        user_input = request.form.get('user_comment', '')
        
        user_data = {
            'age_group': age_group,
            'sleep': sleep_hours,
            'stress': stress_level,
            'diet': diet_quality,
            'exercise': exercise_minutes,
            'date': date
        }
        risk, alzheimer_risk, cardio_risk, diabetes_risk = calculate_risk({
            'age_group': age_group,
            'Sleep_Hours': sleep_hours,
            'Stress_Level': stress_level,
            'Diet_Quality': diet_quality,
            'Exercise_Minutes': exercise_minutes
        })
        advice = generate_personalized_advice(risk, user_input, age_group)
        save_user_data(user_data, risk, advice)
        
        return render_template_string('''
            <html>
            <head>
                <title>EpigenAI 입력 완료</title>
                <style>
                    body { font-family: Arial, sans-serif; font-size: 20px; text-align: center; background-color: #f0f0f0; }
                    h1 { color: #2c3e50; font-size: 28px; }
                    p { margin: 20px; line-height: 1.6; }
                    .result-box { background-color: white; border-radius: 10px; padding: 20px; margin: 30px auto; width: 80%; box-shadow: 0 0 10px rgba(0,0,0,0.1); }
                    .button { display: inline-block; padding: 10px 20px; background-color: #3498db; color: white; text-decoration: none; border-radius: 5px; font-size: 18px; margin-top: 20px; }
                </style>
            </head>
            <body>
                <h1>EpigenAI: 데이터 입력 완료</h1>
                <div class="result-box">
                    <p>입력하신 데이터가 저장되었습니다. 날짜: {{ user_data['date'] }}</p>
                    <p>최소 7일의 기록이 모이면 건강 분석 결과를 확인할 수 있습니다.</p>
                    <a href="/" class="button">추가 데이터 입력</a>
                    <a href="/history" class="button">나의 기록 보기</a>
                    {% if has_enough_records %}
                        <a href="/results" class="button">주간 결과 분석</a>
                    {% endif %}
                    <a href="/education" class="button">후성유전학 교육</a>
                </div>
            </body>
            </html>
        ''', user_data=user_data, has_enough_records=check_user_records())
    return '''
        <html>
        <head>
            <title>EpigenAI</title>
            <style>
                body { font-family: Arial, sans-serif; font-size: 20px; text-align: center; background-color: #f0f0f0; }
                h1 { color: #2c3e50; font-size: 28px; }
                p { margin: 20px; line-height: 1.6; }
                form { background-color: white; border-radius: 10px; padding: 20px; margin: 30px auto; width: 80%; box-shadow: 0 0 10px rgba(0,0,0,0.1); }
                label { display: inline-block; width: 200px; text-align: right; margin-right: 10px; }
                select, textarea, input[type="date"] { font-size: 18px; padding: 5px; width: 300px; }
                input[type="submit"] { padding: 10px 20px; background-color: #3498db; color: white; border: none; border-radius: 5px; font-size: 18px; cursor: pointer; }
                input[type="submit"]:hover { background-color: #2980b9; }
            </style>
        </head>
        <body>
            <h1>EpigenAI: 후성유전학 기반 건강습관 분석</h1>
            <p>고령화 사회에서의 노화 질병 예방을 위해 생활습관 데이터를 입력하세요. 최소 7일의 기록이 모이면 건강 분석 결과를 확인할 수 있습니다.</p>
            <form method="post">
                <label>연령대:</label>
                <select name="age_group">
                    <option value="under_60">60세 미만</option>
                    <option value="over_60">60세 이상</option>
                </select><br><br>
                <label>날짜:</label>
                <input type="date" name="date" value="{{ today }}" required><br><br>
                <label>수면 시간 (시간):</label>
                <select name="sleep">
                    <option value="6">6시간</option
